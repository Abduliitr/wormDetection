{
 "cells": [
  {
   "cell_type": "code",
   "execution_count": 3,
   "metadata": {},
   "outputs": [],
   "source": [
    "# Python program to read image using OpenCV \n",
    "\n",
    "# importing OpenCV(cv2) module \n",
    "import cv2 \n",
    "\n",
    "# Save image in set directory \n",
    "# Read RGB image \n",
    "# img1 = cv2.imread('images/a.png',1)\n",
    "img0 = cv2.imread('images/a.png',0) \n",
    "# img_1 = cv2.imread('images/a.png',-1) \n",
    "\n",
    "# imga = 255-img0\n",
    "\n",
    "# Output img with window name as 'image' \n",
    "# cv2.imshow('image1', img1)\n",
    "\n",
    "cv2.imshow('image0', img0)\n",
    "# cv2.imshow('image_1', img_1)\n",
    "# cv2.imshow('image__1', imga) \n",
    "\n",
    "# Maintain output window utill \n",
    "# user presses a key \n",
    "cv2.waitKey(0)\n",
    "\n",
    "# Destroying present windows on screen \n",
    "cv2.destroyAllWindows() \n"
   ]
  },
  {
   "cell_type": "code",
   "execution_count": 4,
   "metadata": {},
   "outputs": [
    {
     "name": "stdout",
     "output_type": "stream",
     "text": [
      "[64 70 73]\n",
      "(241, 422, 3)\n",
      "305106\n",
      "[[ 50  49  36 ...  34  39  48]\n",
      " [ 80  67  42 ...  32  37  44]\n",
      " [ 56  46  37 ...  30  36  48]\n",
      " ...\n",
      " [ 86  83  80 ...  68  69  82]\n",
      " [108 107 104 ...  56  64  77]\n",
      " [ 81  80  81 ...  29  48  70]]\n"
     ]
    }
   ],
   "source": [
    "# importing OpenCV(cv2) module \n",
    "import cv2 \n",
    "\n",
    "img0 = cv2.imread('images/a.png',1)\n",
    "imga = 255-img0\n",
    "px = imga[100,100]## It is in order Blue, Green and Red rather than RGB\n",
    "\n",
    "print(px)\n",
    "print(imga.shape)\n",
    "print(imga.size)\n",
    "blue = imga[:,:,0] ##1 for green and 2 for Red\n",
    "print(blue)\n",
    "# cv2.imshow('image0', imga)\n",
    "\n",
    "# cv2.waitKey(0)\n",
    "# Destroying present windows on screen \n",
    "# cv2.destroyAllWindows() "
   ]
  },
  {
   "cell_type": "code",
   "execution_count": null,
   "metadata": {},
   "outputs": [
    {
     "name": "stderr",
     "output_type": "stream",
     "text": [
      "/home/leon/.local/lib/python3.6/site-packages/ipykernel_launcher.py:9: RuntimeWarning: overflow encountered in expm1\n",
      "  if __name__ == '__main__':\n"
     ]
    }
   ],
   "source": [
    "# Log transform the image to inprove the details\n",
    "\n",
    "# importing OpenCV(cv2) module \n",
    "import cv2 \n",
    "import numpy as np\n",
    "\n",
    "img0 = cv2.imread('images/a.png',0)\n",
    "# img1= np.uint8(np.log1p(img0))\n",
    "img1= np.uint8(np.expm1(img0))\n",
    "thresh = 1\n",
    "img2 = cv2.threshold(img1, thresh, 255, cv2.THRESH_BINARY)[1]\n",
    "cv2.imshow('image0', img0)\n",
    "cv2.imshow('image01', img1)\n",
    "cv2.imshow('image02', img2)\n",
    "\n",
    "cv2.waitKey(0)\n",
    "# Destroying present windows on screen \n",
    "cv2.destroyAllWindows() "
   ]
  },
  {
   "cell_type": "code",
   "execution_count": null,
   "metadata": {},
   "outputs": [],
   "source": [
    "# We need to increase the sharpness to maximum and reduce the contrast to minimum"
   ]
  },
  {
   "cell_type": "code",
   "execution_count": null,
   "metadata": {},
   "outputs": [],
   "source": [
    "#PIL to increase contrast\n",
    "from PIL import Image, ImageEnhance \n",
    "im = Image.open(\"images/a.png\")\n",
    "enhancer = ImageEnhance.Contrast(im)\n",
    "enhanced_im = enhancer.enhance(4.0)\n",
    "enhanced_im.save(\"images/enhanced.sample1.png\")"
   ]
  },
  {
   "cell_type": "code",
   "execution_count": null,
   "metadata": {},
   "outputs": [],
   "source": [
    "# Increase sharpness using PIL\n",
    "from PIL import Image, ImageEnhance \n",
    "im = Image.open(\"sample3.png\")\n",
    "enhancer = ImageEnhance.Sharpness(im)\n",
    "enhanced_im = enhancer.enhance(10.0)\n",
    "enhanced_im.save(\"enhanced.sample3.png\")\n"
   ]
  },
  {
   "cell_type": "code",
   "execution_count": null,
   "metadata": {},
   "outputs": [],
   "source": [
    "# Increase the brightness using PIL\n",
    "from PIL import Image, ImageEnhance \n",
    "im = Image.open(\"sample5.png\")\n",
    "enhancer = ImageEnhance.Brightness(im)\n",
    "enhanced_im = enhancer.enhance(1.8)\n",
    "enhanced_im.save(\"enhanced.sample5.png\")\n",
    "\n",
    "# Using CV\n",
    "def increase_brightness(img, value=30):\n",
    "    hsv = cv2.cvtColor(img, cv2.COLOR_BGR2HSV)\n",
    "    h, s, v = cv2.split(hsv)\n",
    "\n",
    "    lim = 255 - value\n",
    "    v[v > lim] = 255\n",
    "    v[v <= lim] += value\n",
    "\n",
    "    final_hsv = cv2.merge((h, s, v))\n",
    "    img = cv2.cvtColor(final_hsv, cv2.COLOR_HSV2BGR)\n",
    "    return img\n",
    "frame = increase_brightness(frame, value=20)\n",
    "\n",
    "### Method 3\n",
    "img = cv2.imread('test.jpg') #load rgb image\n",
    "hsv = cv2.cvtColor(img, cv2.COLOR_BGR2HSV) #convert it to hsv\n",
    "\n",
    "h, s, v = cv2.split(hsv)\n",
    "v += 255\n",
    "final_hsv = cv2.merge((h, s, v))\n",
    "\n",
    "img = cv2.cvtColor(final_hsv, cv2.COLOR_HSV2BGR)\n",
    "cv2.imwrite(\"image_processed.jpg\", img)"
   ]
  },
  {
   "cell_type": "code",
   "execution_count": 8,
   "metadata": {},
   "outputs": [],
   "source": [
    "#PIL to increase contrast\n",
    "from PIL import Image, ImageEnhance\n",
    "import cv2 \n",
    "\n",
    "img1 = cv2.imread('images/a.png',0) \n",
    "cv2.imshow('image1', img1)\n",
    "\n",
    "im = Image.open(\"images/a.png\")\n",
    "\n",
    "## enhancer = ImageEnhance.Color(im)\n",
    "## enhanced_im = enhancer.enhance(0.0)\n",
    "## enhanced_im.save(\"images/a11.png\")\n",
    "## img1 = cv2.imread('images/a11.png',0) \n",
    "## cv2.imshow('Color', img1)\n",
    "\n",
    "enhancer = ImageEnhance.Sharpness(im)\n",
    "enhanced_im = enhancer.enhance(5.0)\n",
    "enhanced_im.save(\"images/a12.png\")\n",
    "img2 = cv2.imread('images/a12.png',0) \n",
    "cv2.imshow('Sharpness', img2)\n",
    "\n",
    "img2 = Image.open(\"images/a12.png\")\n",
    "enhancer = ImageEnhance.Brightness(img2)\n",
    "enhanced_im = enhancer.enhance(0.5)\n",
    "enhanced_im.save(\"images/a14.png\")\n",
    "img4 = cv2.imread('images/a14.png',0) \n",
    "cv2.imshow('Brightness', img4)\n",
    "\n",
    "img3 = Image.open(\"images/a14.png\")\n",
    "enhancer = ImageEnhance.Contrast(img3)\n",
    "enhanced_im = enhancer.enhance(0.5)\n",
    "enhanced_im.save(\"images/a13.png\")\n",
    "img3 = cv2.imread('images/a13.png',0) \n",
    "cv2.imshow('Contrast', img3)\n",
    "\n",
    "cv2.waitKey(0)\n",
    "\n",
    "# Destroying present windows on screen \n",
    "cv2.destroyAllWindows() "
   ]
  },
  {
   "cell_type": "code",
   "execution_count": null,
   "metadata": {},
   "outputs": [],
   "source": [
    "# Using CV\n",
    "import cv2\n",
    "\n",
    "def increase_brightness(img, value=30):\n",
    "    hsv = cv2.cvtColor(img, cv2.COLOR_BGR2HSV)\n",
    "    h, s, v = cv2.split(hsv)\n",
    "\n",
    "    lim = 255 - value\n",
    "    v[v > lim] = 255\n",
    "    v[v <= lim] += value\n",
    "\n",
    "#     v = 12\n",
    "    final_hsv = cv2.merge((h, s, v))\n",
    "    img = cv2.cvtColor(final_hsv, cv2.COLOR_HSV2BGR)\n",
    "    return img\n",
    "\n",
    "img = cv2.imread('images/a.png') #load rgb image\n",
    "cv2.imshow('image0', img)\n",
    "frame = increase_brightness(img, value=10)\n",
    "cv2.imshow('image1', frame)\n",
    "cv2.waitKey(0)\n",
    "\n",
    "# Destroying present windows on screen \n",
    "cv2.destroyAllWindows() \n",
    "\n",
    "#cv2.imwrite(\"image_processed.jpg\", img)"
   ]
  },
  {
   "cell_type": "code",
   "execution_count": null,
   "metadata": {},
   "outputs": [
    {
     "name": "stdout",
     "output_type": "stream",
     "text": [
      " Basic Linear Transforms \n",
      "-------------------------\n",
      "* Enter the alpha value [1.0-3.0]: 1\n",
      "* Enter the beta value [0-100]: 0\n"
     ]
    }
   ],
   "source": [
    "from __future__ import print_function\n",
    "from builtins import input\n",
    "import cv2 as cv\n",
    "import numpy as np\n",
    "import argparse\n",
    "\n",
    "# Read image given by user\n",
    "# parser = argparse.ArgumentParser(description='Code for Changing the contrast and brightness of an image! tutorial.')\n",
    "# parser.add_argument('--input', help='Path to input image.', default='lena.jpg')\n",
    "# args = parser.parse_args()\n",
    "# image = cv.imread(cv.samples.findFile(args.input))\n",
    "\n",
    "image = cv.imread(\"images/a1.png\")\n",
    "if image is None:\n",
    "    print('Could not open or find the image: ', args.input)\n",
    "    exit(0)\n",
    "new_image = np.zeros(image.shape, image.dtype)\n",
    "alpha = 1.0 # Simple contrast control\n",
    "beta = 0    # Simple brightness control\n",
    "# Initialize values\n",
    "print(' Basic Linear Transforms ')\n",
    "print('-------------------------')\n",
    "try:\n",
    "    alpha = float(input('* Enter the alpha value [1.0-3.0]: '))\n",
    "    beta = int(input('* Enter the beta value [0-100]: '))\n",
    "except ValueError:\n",
    "    print('Error, not a number')\n",
    "# Do the operation new_image(i,j) = alpha*image(i,j) + beta\n",
    "# Instead of these 'for' loops we could have used simply:\n",
    "# new_image = cv.convertScaleAbs(image, alpha=alpha, beta=beta)\n",
    "# but we wanted to show you how to access the pixels :)\n",
    "for y in range(image.shape[0]):\n",
    "    for x in range(image.shape[1]):\n",
    "        for c in range(image.shape[2]):\n",
    "            new_image[y,x,c] = np.clip(alpha*image[y,x,c] + beta, 0, 255)\n",
    "cv.imshow('Original Image', image)\n",
    "cv.imshow('New Image', new_image)\n",
    "# Wait until user press some key\n",
    "cv.waitKey(0)\n",
    "cv.destroyAllWindows() "
   ]
  },
  {
   "cell_type": "code",
   "execution_count": null,
   "metadata": {},
   "outputs": [],
   "source": []
  }
 ],
 "metadata": {
  "kernelspec": {
   "display_name": "Python 3",
   "language": "python",
   "name": "python3"
  },
  "language_info": {
   "codemirror_mode": {
    "name": "ipython",
    "version": 3
   },
   "file_extension": ".py",
   "mimetype": "text/x-python",
   "name": "python",
   "nbconvert_exporter": "python",
   "pygments_lexer": "ipython3",
   "version": "3.6.7"
  }
 },
 "nbformat": 4,
 "nbformat_minor": 2
}
